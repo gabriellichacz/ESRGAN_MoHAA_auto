{
 "cells": [
  {
   "cell_type": "code",
   "execution_count": 1,
   "metadata": {},
   "outputs": [],
   "source": [
    "# Libraries\n",
    "import pandas as pd\n",
    "from os import walk\n",
    "import os\n",
    "from PIL import Image"
   ]
  },
  {
   "cell_type": "code",
   "execution_count": 2,
   "metadata": {},
   "outputs": [],
   "source": [
    "# Folder name to convert\n",
    "folder_name = \"blasted\"\n",
    "# Path to original textures\n",
    "textures_original_path = \"B:/Projekty/Studia/Praktyki/Projekty/MoHAA/Pak2/textures_original/\" + folder_name\n",
    "# Path to ESRGAN input/output folder\n",
    "esrgan_input_path = \"B:/Projekty/Studia/Praktyki/Projekty/Python/Real-ESRGAN/inputs/\"\n",
    "esrgan_output_path = \"B:/Projekty/Studia/Praktyki/Projekty/Python/Real-ESRGAN/results/\"\n",
    "esrgan_last_path = \"B:/Projekty/Studia/Praktyki/Projekty/Python/Real-ESRGAN/script_output/\"\n",
    "\n",
    "# Reading all filenames in directory\n",
    "filenames_short = []\n",
    "for (dirpath, dirnames, filenames) in walk(textures_original_path):\n",
    "    filenames_short.extend(filenames)\n",
    "    break\n",
    "\n",
    "# Adding full path to filenames\n",
    "for k in range(0, len(filenames)):\n",
    "    filenames[k] = textures_original_path + \"/\" + filenames[k]"
   ]
  },
  {
   "cell_type": "code",
   "execution_count": 3,
   "metadata": {},
   "outputs": [],
   "source": [
    "# Output paths\n",
    "esrgan_filenames = []\n",
    "for j in range(0, len(filenames_short)):\n",
    "    esrgan_filenames.append(esrgan_input_path + filenames_short[j][0:-4] + \".png\") "
   ]
  },
  {
   "cell_type": "code",
   "execution_count": 4,
   "metadata": {},
   "outputs": [],
   "source": [
    "# Opening, converting and saving image\n",
    "for m in range(0, len(filenames)):\n",
    "    im = Image.open(filenames[m])\n",
    "    im.save(esrgan_filenames[m], compression=None)"
   ]
  },
  {
   "cell_type": "code",
   "execution_count": 5,
   "metadata": {},
   "outputs": [
    {
     "data": {
      "text/plain": [
       "1"
      ]
     },
     "execution_count": 5,
     "metadata": {},
     "output_type": "execute_result"
    }
   ],
   "source": [
    "os.system(\"python inference_realesrgan.py -n RealESRGAN_x4plus -i inputs --face_enhance\")"
   ]
  },
  {
   "cell_type": "code",
   "execution_count": 6,
   "metadata": {},
   "outputs": [],
   "source": [
    "# Reading all filenames in ESRGAN output directory\n",
    "filenames_results = []\n",
    "for (dirpath, dirnames, filenames1) in walk(esrgan_output_path):\n",
    "    filenames_results.extend(filenames1)\n",
    "    break\n",
    "\n",
    "noextension_filenames_output = []\n",
    "for j in range(0, len(filenames_results)):\n",
    "    noextension_filenames_output.append(filenames_results[j][0:-4])\n",
    "    filenames_results[j] = esrgan_output_path + filenames_results[j]\n",
    "\n",
    "dd = {'filename':noextension_filenames_output, 'path':filenames_results}\n",
    "df_results = pd.DataFrame(dd)\n"
   ]
  },
  {
   "cell_type": "code",
   "execution_count": 7,
   "metadata": {},
   "outputs": [],
   "source": [
    "# Structuring original data\n",
    "noextension_filenames = []\n",
    "noextension_filenames_extensions = []\n",
    "for j in range(0, len(filenames_short)):\n",
    "    noextension_filenames.append(filenames_short[j][0:-4])\n",
    "    noextension_filenames_extensions.append(filenames_short[j][-4:len(filenames_short[j])])\n",
    "\n",
    "d = {'filename':noextension_filenames, 'extension':noextension_filenames_extensions}\n",
    "df_original = pd.DataFrame(d)"
   ]
  },
  {
   "cell_type": "code",
   "execution_count": 8,
   "metadata": {},
   "outputs": [],
   "source": [
    "for res in range(0, len(df_results['filename'])):\n",
    "    for og in range(0, len(df_original['filename'])):\n",
    "        if (df_results['filename'][res] == df_original['filename'][og]) == True:\n",
    "            im1 = Image.open(df_results['path'][res])\n",
    "            path = esrgan_last_path +  df_original['filename'][og] + df_original['extension'][og]\n",
    "            im1.save(path, compression=None)"
   ]
  },
  {
   "cell_type": "code",
   "execution_count": 9,
   "metadata": {},
   "outputs": [],
   "source": [
    "# Deleting inputs\n",
    "filenames_input_delete = []\n",
    "for (dirpath, dirnames, filenames) in walk(esrgan_input_path):\n",
    "    filenames_input_delete.extend(filenames)\n",
    "    break\n",
    "\n",
    "for k in range(0, len(filenames_input_delete)):\n",
    "    filenames_input_delete[k] = esrgan_input_path + filenames_input_delete[k]\n",
    "\n",
    "for delet in range(0, len(filenames_input_delete)):\n",
    "    os.remove(filenames_input_delete[delet])\n",
    "\n",
    "# Deleting results\n",
    "filenames_result_delete = []\n",
    "for (dirpath, dirnames, filenames) in walk(esrgan_output_path):\n",
    "    filenames_result_delete.extend(filenames)\n",
    "    break\n",
    "\n",
    "for k in range(0, len(filenames_result_delete)):\n",
    "    filenames_result_delete[k] = esrgan_output_path + filenames_result_delete[k]\n",
    "\n",
    "for delet in range(0, len(filenames_result_delete)):\n",
    "    os.remove(filenames_result_delete[delet])"
   ]
  }
 ],
 "metadata": {
  "kernelspec": {
   "display_name": "Python 3.8.10 64-bit",
   "language": "python",
   "name": "python3"
  },
  "language_info": {
   "codemirror_mode": {
    "name": "ipython",
    "version": 3
   },
   "file_extension": ".py",
   "mimetype": "text/x-python",
   "name": "python",
   "nbconvert_exporter": "python",
   "pygments_lexer": "ipython3",
   "version": "3.8.10"
  },
  "orig_nbformat": 4,
  "vscode": {
   "interpreter": {
    "hash": "055d741e0b7498292b4fefc067b9c1b71adcb50b1fff2093c5e0f7495b8a3aa1"
   }
  }
 },
 "nbformat": 4,
 "nbformat_minor": 2
}
